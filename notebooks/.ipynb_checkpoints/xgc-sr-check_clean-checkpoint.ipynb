{
 "cells": [
  {
   "cell_type": "markdown",
   "metadata": {},
   "source": [
    "# XGC f0 analysis\n",
    "This is for calculating physics properties related to XGC's 5D f-data in python. \n",
    "Original code is in `diag_3d_f0_f2` in XGC's Fortran code (`XGC1/diagnosis.F90`).\n",
    "\n",
    "We have two python functions:\n",
    "* f0_diag: calculate density, parallel flow, and T_perp moments, T_para moment\n",
    "* f0_avg_diag: calcuate the flux-surface average of n and T "
   ]
  },
  {
   "cell_type": "code",
   "execution_count": null,
   "metadata": {},
   "outputs": [],
   "source": [
    "# %load_ext autoreload\n",
    "# %autoreload 2"
   ]
  },
  {
   "cell_type": "code",
   "execution_count": null,
   "metadata": {},
   "outputs": [],
   "source": [
    "import numpy as np\n",
    "import adios2 as ad2\n",
    "import matplotlib.pyplot as plt\n",
    "import matplotlib.tri as tri\n",
    "import threading\n",
    "from tqdm import tqdm\n",
    "\n",
    "## module for xgc experiment\n",
    "import xgc4py\n",
    "\n",
    "#from concurrent.futures import ThreadPoolExecutor\n",
    "from concurrent.futures import ProcessPoolExecutor\n",
    "import os\n",
    "import subprocess"
   ]
  },
  {
   "cell_type": "markdown",
   "metadata": {},
   "source": [
    "We load XGC experiment data (mesh, f0mesh, grid, etc):"
   ]
  },
  {
   "cell_type": "code",
   "execution_count": null,
   "metadata": {},
   "outputs": [],
   "source": [
    "prefixdir = 'd3d_coarse_v2_4x'\n",
    "xgcexp = xgc4py.XGC(prefixdir, step=420)"
   ]
  },
  {
   "cell_type": "markdown",
   "metadata": {},
   "source": [
    "The following file contains the correct values we can compare."
   ]
  },
  {
   "cell_type": "code",
   "execution_count": null,
   "metadata": {},
   "outputs": [],
   "source": [
    "with ad2.open('%s/restart_dir/xgc.f0.00420.bp'%prefixdir, 'r') as f:\n",
    "    i_f = f.read('i_f')\n",
    "    n = f.read('n')\n",
    "    u_par = f.read('upar')\n",
    "    T_perp = f.read('T_perp')\n",
    "    T_para = f.read('T_para')\n",
    "    n0 = f.read('n0')\n",
    "    T0 = f.read('T0')\n",
    "    \n",
    "print (i_f.shape, n.shape, u_par.shape, T_perp.shape, n0.shape, T0.shape)"
   ]
  },
  {
   "cell_type": "markdown",
   "metadata": {},
   "source": [
    "## Step #1: density n, parallel flow u, and the temperature T\n",
    "Now we call `f0_diag` and check outputs with the reference values we read in the above. \n",
    "\n",
    "* (2020/10/05:Jong) T0 is not perfectly matching. I will fix later.\n",
    "* (2020/10/13:Jong) T0 fixed."
   ]
  },
  {
   "cell_type": "markdown",
   "metadata": {},
   "source": [
    "Before starting, we set the following values (values will vary depending on the case):"
   ]
  },
  {
   "cell_type": "code",
   "execution_count": null,
   "metadata": {},
   "outputs": [],
   "source": [
    "\"\"\"\n",
    "nphi: the total number of planes\n",
    "iphi: the index of plane we working on\n",
    "f0_inode1: the index of starting mesh node \n",
    "ndata \n",
    "\"\"\"\n",
    "nphi = i_f.shape[0]\n",
    "iphi = 0\n",
    "f0_inode1 = 0\n",
    "ndata = i_f.shape[2]\n",
    "# f0_inode1 = 10_000\n",
    "# ndata = 1024"
   ]
  },
  {
   "cell_type": "markdown",
   "metadata": {},
   "source": [
    "We prepare f0_f for the input to call f0_diag. f0_f can be a value reconstructed from VAE. \n",
    "\n",
    "Here we use i_f data directly from XGC to check the correctness of f0_f function."
   ]
  },
  {
   "cell_type": "code",
   "execution_count": null,
   "metadata": {},
   "outputs": [],
   "source": [
    "## prepare f0_f for the input to call f0_diag\n",
    "## f0_f shape: (ndata, f0_nmu+1, 2*f0_nvp+1)\n",
    "f0_f = np.moveaxis(i_f[iphi,:],1,0)[f0_inode1:(f0_inode1+ndata),:].copy()"
   ]
  },
  {
   "cell_type": "code",
   "execution_count": null,
   "metadata": {},
   "outputs": [],
   "source": [
    "vol, vth, vp, mu_vol, vth2, ptl_mass, sml_e_charge, f0_grid_vol, mu_vp_vol = \\\n",
    "    xgcexp.f0_param(f0_inode1=f0_inode1, ndata=ndata, isp=1, f0_f=f0_f)\n",
    "print (vol.shape, vth.shape, vp.shape, mu_vol.shape, vth2.shape)\n",
    "print (ptl_mass, sml_e_charge, f0_grid_vol.shape, mu_vp_vol.shape)"
   ]
  },
  {
   "cell_type": "code",
   "execution_count": null,
   "metadata": {},
   "outputs": [],
   "source": [
    "den, upara, Tperp, Tpara, fn0, fT0 = \\\n",
    "    xgcexp.f0_diag_future(f0_inode1=f0_inode1, ndata=ndata, isp=1, f0_f=f0_f, progress=True)\n",
    "print (den.shape, upara.shape, Tperp.shape, Tpara.shape, fn0.shape, fT0.shape)"
   ]
  },
  {
   "cell_type": "code",
   "execution_count": null,
   "metadata": {},
   "outputs": [],
   "source": [
    "np.sum(den)"
   ]
  },
  {
   "cell_type": "code",
   "execution_count": null,
   "metadata": {},
   "outputs": [],
   "source": [
    "inode = 13221\n",
    "plt.figure(figsize=[24,4])\n",
    "plt.subplot(1,5,1)\n",
    "plt.imshow(i_f[0,:,inode,:], origin='lower')\n",
    "plt.colorbar()\n",
    "plt.title('i_f')\n",
    "\n",
    "plt.subplot(1,5,2)\n",
    "plt.imshow(den[inode,:,:], origin='lower')\n",
    "plt.colorbar()\n",
    "plt.title('den')\n",
    "\n",
    "plt.subplot(1,5,3)\n",
    "plt.imshow(upara[inode,:,:], origin='lower')\n",
    "plt.colorbar()\n",
    "plt.title('upara')\n",
    "\n",
    "plt.subplot(1,5,4)\n",
    "plt.imshow(Tperp[inode,:,:], origin='lower')\n",
    "plt.colorbar()\n",
    "plt.title('Tperp')\n",
    "\n",
    "plt.subplot(1,5,5)\n",
    "plt.imshow(Tpara[inode,:,:], origin='lower')\n",
    "plt.colorbar()\n",
    "plt.title('Tpara')"
   ]
  },
  {
   "cell_type": "code",
   "execution_count": null,
   "metadata": {},
   "outputs": [],
   "source": [
    "print (np.sum(i_f[0,:,inode,:]), np.sum(den[inode,:,:]), np.sum(upara[inode,:,:]), np.sum(Tperp[inode,:,:]), np.sum(Tpara[inode,:,:]), )"
   ]
  },
  {
   "cell_type": "code",
   "execution_count": null,
   "metadata": {},
   "outputs": [],
   "source": [
    "xgcexp.f0mesh.f0_grid_vol.shape"
   ]
  },
  {
   "cell_type": "markdown",
   "metadata": {},
   "source": [
    "Now we verify:"
   ]
  },
  {
   "cell_type": "code",
   "execution_count": null,
   "metadata": {},
   "outputs": [],
   "source": [
    "for (name, X,Y) in (('n', den, n),('u_par', upara, u_par),('T_perp', Tperp, T_perp),('T_para', Tpara, T_para)):\n",
    "    plt.figure()\n",
    "    plt.plot(np.sum(X, axis=(1,2)), '.', c='b')\n",
    "    # plt.plot(Y[iphi,:][f0_inode1:f0_inode1+ndata], c='r', alpha=0.7)\n",
    "    plt.legend(['mine', 'org'])\n",
    "    plt.title(name)\n",
    "    \n",
    "for (name,x,y) in (('n0',fn0,n0),('T0',fT0,T0)):\n",
    "    plt.figure()\n",
    "    plt.plot(x, '.', c='b')\n",
    "    # plt.plot(y[0,:][f0_inode1:f0_inode1+ndata], c='r', alpha=0.7)\n",
    "    plt.legend(['mine', 'org'])\n",
    "    plt.title(name)"
   ]
  },
  {
   "cell_type": "markdown",
   "metadata": {},
   "source": [
    "## Step #2: flux-surface averaged n and T\n",
    "The following is to calculate flux-surface average of n and T. We need fn0 from all the planes.\n",
    "\n",
    "* (2020/10/05:Jong) Haven't checked the correctness. Need to write reference values to check\n",
    "* (2020/10/13:Jong) Initial implementation of f0_avg_diag. Found mismatch.\n",
    "\n",
    "Prepare inputs for flux-surface average, which needs data from all planes (it takes long time)."
   ]
  },
  {
   "cell_type": "code",
   "execution_count": null,
   "metadata": {},
   "outputs": [],
   "source": [
    "fn0_all = np.zeros([nphi,ndata])\n",
    "fT0_all = np.zeros([nphi,ndata])\n",
    "for iphi in range(nphi):\n",
    "    f0_f = np.moveaxis(i_f[iphi,:],1,0)[f0_inode1:f0_inode1+ndata,:].copy()\n",
    "    den, upara, Tperp, Tpara, fn0, fT0 = \\\n",
    "        xgcexp.f0_diag_future(f0_inode1=f0_inode1, ndata=ndata, isp=1, f0_f=f0_f, progress=True)\n",
    "    fn0_all[iphi,:] = fn0\n",
    "    fT0_all[iphi,:] = fT0"
   ]
  },
  {
   "cell_type": "code",
   "execution_count": null,
   "metadata": {},
   "outputs": [],
   "source": [
    "fn0_avg, fT0_avg = xgcexp.f0_avg_diag(f0_inode1, ndata, fn0_all, fT0_all)\n",
    "print (fn0_avg.shape, fT0_avg.shape)"
   ]
  },
  {
   "cell_type": "markdown",
   "metadata": {},
   "source": [
    "Let's check input and output."
   ]
  },
  {
   "cell_type": "code",
   "execution_count": null,
   "metadata": {},
   "outputs": [],
   "source": [
    "n0.shape"
   ]
  },
  {
   "cell_type": "code",
   "execution_count": null,
   "metadata": {},
   "outputs": [],
   "source": [
    "for (name,x,y) in (('n0',fn0_all,n0),('T0',fT0_all,T0)):\n",
    "    for iphi in range(nphi):\n",
    "        plt.figure()\n",
    "        plt.plot(x[iphi,:], '.', c='b')\n",
    "        # plt.plot(y[iphi,:][f0_inode1:f0_inode1+ndata], c='r')\n",
    "        plt.legend(['mine', 'org'])\n",
    "        plt.title(name)"
   ]
  },
  {
   "cell_type": "code",
   "execution_count": null,
   "metadata": {},
   "outputs": [],
   "source": [
    "for (name,x,y) in (('n0',fn0_avg,_),('T0',fT0_avg,_)):\n",
    "    for iphi in range(nphi):\n",
    "        plt.figure()\n",
    "        plt.plot(x[:], '.', c='b')\n",
    "        # plt.plot(y[iphi,f0_inode1:f0_inode1+ndata], c='r', alpha=0.7)\n",
    "        plt.legend(['mine', 'org'])\n",
    "        plt.title('%s (iphi=%d)'%(name, iphi))"
   ]
  },
  {
   "cell_type": "code",
   "execution_count": null,
   "metadata": {},
   "outputs": [],
   "source": [
    "with ad2.open('%s/xgc.f3d.00450.bp'%prefixdir, 'r') as f:\n",
    "    i_den = f.read('i_den')\n",
    "    i_u_para = f.read('i_u_para')\n",
    "    i_T_perp = f.read('i_T_perp')\n",
    "    i_T_para = f.read('i_T_para')\n",
    "\n",
    "print (i_den.shape, i_u_para.shape, i_T_perp.shape, i_T_para.shape)"
   ]
  },
  {
   "cell_type": "code",
   "execution_count": null,
   "metadata": {},
   "outputs": [],
   "source": [
    "for (name, X, Y) in (('i_den', den, i_den),('i_u_para', upara, i_u_para),('i_T_perp', Tperp, i_T_perp),('i_T_para', Tpara, i_T_para)):\n",
    "    plt.figure()\n",
    "    plt.plot(np.sum(X, axis=(1,2)), '.', c='b')\n",
    "    plt.plot(Y[:,iphi][f0_inode1:f0_inode1+ndata], c='r', alpha=0.7)\n",
    "    plt.legend(['mine', 'org'])\n",
    "    plt.title(name)"
   ]
  },
  {
   "cell_type": "markdown",
   "metadata": {},
   "source": [
    "## Step #3: Non-adiabatic distribution\n",
    "The following is to calculate non-adiabatic distribution of n0 and turb (``f_nonadia_n0`` and ``f_nonadia_turb``).\n",
    "\n",
    "* (2020/12/14:Jong) Initial implementation of f0_non_adiabatic. Found mismatch.\n",
    "\n",
    "Takes long time :("
   ]
  },
  {
   "cell_type": "code",
   "execution_count": null,
   "metadata": {},
   "outputs": [],
   "source": [
    "# np.save('fn0_avg.npy', fn0_avg)\n",
    "# np.save('fT0_avg.npy', fT0_avg)\n",
    "# fn0_avg = np.load('fn0_avg.npy')\n",
    "# fT0_avg = np.load('fT0_avg.npy')\n",
    "\n",
    "f0_f_all = np.moveaxis(i_f[:,:,:,:],2,1)[:,f0_inode1:(f0_inode1+ndata),:,:].copy()\n",
    "\n",
    "fn_n0_all = np.zeros([nphi,ndata,f0_f_all.shape[2],f0_f_all.shape[3]])\n",
    "fn_turb_all = np.zeros([nphi,ndata,f0_f_all.shape[2],f0_f_all.shape[3]])\n",
    "boltz_fac_n0_all = np.zeros([nphi,ndata,f0_f_all.shape[2]])\n",
    "dpot_n0_all = np.zeros([nphi,ndata,f0_f_all.shape[2]])\n",
    "v_exb_n0_all = np.zeros([nphi,ndata,f0_f_all.shape[2],3])\n",
    "\n",
    "for iphi in range(nphi):\n",
    "    fn_n0, fn_turb, _boltz_fac_n0, _dpot_n0, _v_exb_n0 = \\\n",
    "        xgcexp.f0_non_adiabatic(iphi=iphi, f0_inode1=f0_inode1, ndata=ndata, isp=1, \\\n",
    "            f0_f=f0_f_all, n0_avg=fn0_avg, T0_avg=fT0_avg, progress=True)\n",
    "    fn_n0_all[iphi,:] = fn_n0\n",
    "    fn_turb_all[iphi,:] = fn_turb\n",
    "    boltz_fac_n0_all[iphi,:] = _boltz_fac_n0\n",
    "    dpot_n0_all[iphi,:] = _dpot_n0\n",
    "    v_exb_n0_all[iphi,:] = _v_exb_n0"
   ]
  },
  {
   "cell_type": "markdown",
   "metadata": {},
   "source": [
    "Let's do validation:"
   ]
  }
 ],
 "metadata": {
  "kernelspec": {
   "display_name": "Python 3 (ipykernel)",
   "language": "python",
   "name": "python3"
  },
  "language_info": {
   "codemirror_mode": {
    "name": "ipython",
    "version": 3
   },
   "file_extension": ".py",
   "mimetype": "text/x-python",
   "name": "python",
   "nbconvert_exporter": "python",
   "pygments_lexer": "ipython3",
   "version": "3.8.12"
  }
 },
 "nbformat": 4,
 "nbformat_minor": 4
}
